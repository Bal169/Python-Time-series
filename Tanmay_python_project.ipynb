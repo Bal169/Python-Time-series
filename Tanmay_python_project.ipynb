{
  "nbformat": 4,
  "nbformat_minor": 0,
  "metadata": {
    "colab": {
      "provenance": []
    },
    "kernelspec": {
      "name": "python3",
      "display_name": "Python 3"
    },
    "language_info": {
      "name": "python"
    }
  },
  "cells": [
    {
      "cell_type": "code",
      "execution_count": 8,
      "metadata": {
        "colab": {
          "base_uri": "https://localhost:8080/"
        },
        "id": "hnHvNlzsPpjH",
        "outputId": "4d4482a5-bb42-4c10-e95a-7ddbb9201d87"
      },
      "outputs": [
        {
          "output_type": "stream",
          "name": "stderr",
          "text": [
            "<ipython-input-8-b40a2ea0d9c4>:5: UserWarning: Could not infer format, so each element will be parsed individually, falling back to `dateutil`. To ensure parsing is consistent and as-expected, please specify a format.\n",
            "  df = pd.read_csv('/content/SBIN_Data.csv', parse_dates=['Date', 'Time'])\n"
          ]
        },
        {
          "output_type": "stream",
          "name": "stdout",
          "text": [
            "            Date    Open    High     Low   Close  Volume                Time  \\\n",
            "7621  30-01-2024  627.55  627.95  627.55  627.95   21081 2024-04-11 11:16:00   \n",
            "8062  31-01-2024  633.85  633.95  632.95  632.95  153453 2024-04-11 12:22:00   \n",
            "8018  31-01-2024  634.45  634.70  634.00  634.50   25165 2024-04-11 11:38:00   \n",
            "7418  29-01-2024  628.15  628.40  628.05  628.20   18212 2024-04-11 14:08:00   \n",
            "6954  25-01-2024  609.90  610.25  609.80  610.20   42585 2024-04-11 12:39:00   \n",
            "\n",
            "      Rank  \n",
            "7621     5  \n",
            "8062     1  \n",
            "8018     2  \n",
            "7418     5  \n",
            "6954     1  \n"
          ]
        },
        {
          "output_type": "stream",
          "name": "stderr",
          "text": [
            "<ipython-input-8-b40a2ea0d9c4>:16: SettingWithCopyWarning: \n",
            "A value is trying to be set on a copy of a slice from a DataFrame.\n",
            "Try using .loc[row_indexer,col_indexer] = value instead\n",
            "\n",
            "See the caveats in the documentation: https://pandas.pydata.org/pandas-docs/stable/user_guide/indexing.html#returning-a-view-versus-a-copy\n",
            "  df_last_5_days['Rank'] = df_last_5_days.groupby('Time').apply(get_volume_rank).reset_index(level=0, drop=True)\n"
          ]
        }
      ],
      "source": [
        "import pandas as pd\n",
        "\n",
        "# Loaded the SBI stock data into a DataFrame\n",
        "\n",
        "df = pd.read_csv('/content/SBIN_Data.csv', parse_dates=['Date', 'Time'])\n",
        "\n",
        "# Filter data for the last 5 days\n",
        "last_5_days = df['Date'].unique()[-5:]\n",
        "df_last_5_days = df[df['Date'].isin(last_5_days)]\n",
        "\n",
        "# Define a function to get the rank of volume for a specific time across the last 5 days\n",
        "def get_volume_rank(group):\n",
        "    return group['Volume'].rank(ascending=False, method='dense').astype(int)\n",
        "\n",
        "# Calculate rank of volume for each time group\n",
        "df_last_5_days['Rank'] = df_last_5_days.groupby('Time').apply(get_volume_rank).reset_index(level=0, drop=True)\n",
        "\n",
        "# Print a few random rows to validate the results\n",
        "print(df_last_5_days.sample(5))\n",
        "\n"
      ]
    }
  ]
}